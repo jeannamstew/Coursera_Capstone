{
    "cells": [
        {
            "cell_type": "markdown",
            "metadata": {
                "collapsed": true
            },
            "source": "This Notebook has been created for the purpose of documenting and coding a solution to a problem to be identified later using location data."
        },
        {
            "cell_type": "markdown",
            "metadata": {},
            "source": "# IBM Data Science Professional Certification Capstone \n"
        },
        {
            "cell_type": "markdown",
            "metadata": {},
            "source": "# by Jeanna Stewart"
        },
        {
            "cell_type": "markdown",
            "metadata": {},
            "source": "## Introduction/Business Problem"
        },
        {
            "cell_type": "markdown",
            "metadata": {},
            "source": "As an experienced real estate investor, there are many factors that go into choosing a property to purchase. Location is a primary consideration and is unique to the individual investor. For example, in one area of Michigan a lot of investors of Class C type properties look for conviences the residents can walk to with access to an ATM, food, lottery etc. In Michigan, those types of businesses are called 'Party Stores'. This project will attempt to narrow down specific locations near party stores to explore properties to prepare a marketing campaign."
        },
        {
            "cell_type": "markdown",
            "metadata": {},
            "source": "## Data"
        },
        {
            "cell_type": "markdown",
            "metadata": {},
            "source": "The following data sources will be used to extract data to address the business problem in locating the target real estate investment areas close to party stores in Ingham County Michigan.\n\nIngham County Michigan Cities/Towns/Other Populated Places will be used to find all cities in the target area.\nhttps://michigan.hometownlocator.com/counties/cities,cfips,065,c,ingham.cfm\n\nLasing Zip Codes will be used to pull the zip codes to feed into the Four Square API.\nhttps://michigan.hometownlocator.com/zip-codes/zipcodes,city,lansing.cfm\n\nFour Square API will be used to find location data for party stores in the Ingham County Michigan/City of Lansing area.\n\n*Note* I might also use a real estate transaction API to see if in addition to finding location near party stores I can also find properties for sale\nhttps://www.programmableweb.com/api/real-estate-transaction-standards-web-rest-api\n"
        },
        {
            "cell_type": "code",
            "execution_count": null,
            "metadata": {},
            "outputs": [],
            "source": ""
        }
    ],
    "metadata": {
        "kernelspec": {
            "display_name": "Python 3.6",
            "language": "python",
            "name": "python3"
        },
        "language_info": {
            "codemirror_mode": {
                "name": "ipython",
                "version": 3
            },
            "file_extension": ".py",
            "mimetype": "text/x-python",
            "name": "python",
            "nbconvert_exporter": "python",
            "pygments_lexer": "ipython3",
            "version": "3.6.9"
        }
    },
    "nbformat": 4,
    "nbformat_minor": 1
}